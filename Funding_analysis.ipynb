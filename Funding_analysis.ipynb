{
 "cells": [
  {
   "cell_type": "markdown",
   "metadata": {},
   "source": [
    "Data Analysis: Start-ups, Investement & Funding"
   ]
  },
  {
   "cell_type": "markdown",
   "metadata": {},
   "source": [
    "# Loading and Cleaning the Dataset \n",
    "1. We began by reviewing and cleaning the dataset to understand its structure and key patterns.\n",
    "2. We imported the necessary libraries for data cleaning.\n",
    "3. We loaded the CSV dataset and used df.shape to examine the number of rows and columns.\n",
    "4. We checked for duplicate rows using df.duplicated().sum().\n",
    "5. We generated summary statistics with df.describe() and df.describe(include=\"all\") to gain insights into numerical and categorical data.\n",
    "\n",
    "These steps ensure a well-structured and refined dataset for accurate analysis."
   ]
  }
 ],
 "metadata": {
  "language_info": {
   "name": "python"
  }
 },
 "nbformat": 4,
 "nbformat_minor": 2
}
