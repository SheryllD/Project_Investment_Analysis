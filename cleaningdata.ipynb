{
 "cells": [
  {
   "cell_type": "code",
   "execution_count": 1,
   "metadata": {},
   "outputs": [
    {
     "ename": "NameError",
     "evalue": "name 'pd' is not defined",
     "output_type": "error",
     "traceback": [
      "\u001b[1;31m---------------------------------------------------------------------------\u001b[0m",
      "\u001b[1;31mNameError\u001b[0m                                 Traceback (most recent call last)",
      "Cell \u001b[1;32mIn[1], line 2\u001b[0m\n\u001b[0;32m      1\u001b[0m file_path \u001b[38;5;241m=\u001b[39m \u001b[38;5;124mr\u001b[39m\u001b[38;5;124m\"\u001b[39m\u001b[38;5;124mC:\u001b[39m\u001b[38;5;124m\\\u001b[39m\u001b[38;5;124mUsers\u001b[39m\u001b[38;5;124m\\\u001b[39m\u001b[38;5;124mmichele\u001b[39m\u001b[38;5;124m\\\u001b[39m\u001b[38;5;124mDownloads\u001b[39m\u001b[38;5;124m\\\u001b[39m\u001b[38;5;124mstartup_growth_investment_data.csv\u001b[39m\u001b[38;5;124m\"\u001b[39m  \u001b[38;5;66;03m# Example path\u001b[39;00m\n\u001b[1;32m----> 2\u001b[0m df \u001b[38;5;241m=\u001b[39m pd\u001b[38;5;241m.\u001b[39mread_csv(file_path)\n",
      "\u001b[1;31mNameError\u001b[0m: name 'pd' is not defined"
     ]
    }
   ],
   "source": [
    "file_path = r\"C:\\Users\\michele\\Downloads\\startup_growth_investment_data.csv\"  # Example path\n",
    "df = pd.read_csv(file_path)\n"
   ]
  },
  {
   "cell_type": "code",
   "execution_count": 2,
   "metadata": {},
   "outputs": [
    {
     "name": "stdout",
     "output_type": "stream",
     "text": [
      "\n",
      "🔹 Unique Values Per Column:\n",
      "Startup Name               5000\n",
      "Industry                      8\n",
      "Funding Rounds               10\n",
      "Investment Amount (USD)    5000\n",
      "Valuation (USD)            5000\n",
      "Number of Investors          50\n",
      "Country                      10\n",
      "Year Founded                 24\n",
      "Growth Rate (%)            4384\n",
      "dtype: int64\n",
      "\n",
      "🔹 Missing (NaN) Values Per Column:\n",
      "Startup Name               0\n",
      "Industry                   0\n",
      "Funding Rounds             0\n",
      "Investment Amount (USD)    0\n",
      "Valuation (USD)            0\n",
      "Number of Investors        0\n",
      "Country                    0\n",
      "Year Founded               0\n",
      "Growth Rate (%)            0\n",
      "dtype: int64\n",
      "\n",
      "🔹 Summary Statistics:\n",
      "       Startup Name    Industry  Funding Rounds  Investment Amount (USD)  \\\n",
      "count          5000        5000     5000.000000             5.000000e+03   \n",
      "unique         5000           8             NaN                      NaN   \n",
      "top       Startup_1  HealthTech             NaN                      NaN   \n",
      "freq              1         685             NaN                      NaN   \n",
      "mean            NaN         NaN        5.491600             2.455567e+09   \n",
      "std             NaN         NaN        2.913353             1.423787e+09   \n",
      "min             NaN         NaN        1.000000             1.102610e+06   \n",
      "25%             NaN         NaN        3.000000             1.221506e+09   \n",
      "50%             NaN         NaN        6.000000             2.460634e+09   \n",
      "75%             NaN         NaN        8.000000             3.639951e+09   \n",
      "max             NaN         NaN       10.000000             4.999544e+09   \n",
      "\n",
      "        Valuation (USD)  Number of Investors    Country  Year Founded  \\\n",
      "count      5.000000e+03          5000.000000       5000   5000.000000   \n",
      "unique              NaN                  NaN         10           NaN   \n",
      "top                 NaN                  NaN  Australia           NaN   \n",
      "freq                NaN                  NaN        548           NaN   \n",
      "mean       7.971059e+09            25.542000        NaN   2011.544000   \n",
      "std        5.479487e+09            14.271838        NaN      6.885285   \n",
      "min        1.722547e+06             1.000000        NaN   2000.000000   \n",
      "25%        3.598305e+09            13.000000        NaN   2006.000000   \n",
      "50%        7.002304e+09            25.000000        NaN   2012.000000   \n",
      "75%        1.147676e+10            38.000000        NaN   2018.000000   \n",
      "max        2.470906e+10            50.000000        NaN   2023.000000   \n",
      "\n",
      "        Growth Rate (%)  \n",
      "count       5000.000000  \n",
      "unique              NaN  \n",
      "top                 NaN  \n",
      "freq                NaN  \n",
      "mean         102.091732  \n",
      "std           56.179781  \n",
      "min            5.060000  \n",
      "25%           52.815000  \n",
      "50%          102.215000  \n",
      "75%          150.580000  \n",
      "max          199.970000  \n",
      "\n",
      "🔹 Data Overview:\n",
      "<class 'pandas.core.frame.DataFrame'>\n",
      "RangeIndex: 5000 entries, 0 to 4999\n",
      "Data columns (total 9 columns):\n",
      " #   Column                   Non-Null Count  Dtype  \n",
      "---  ------                   --------------  -----  \n",
      " 0   Startup Name             5000 non-null   object \n",
      " 1   Industry                 5000 non-null   object \n",
      " 2   Funding Rounds           5000 non-null   int64  \n",
      " 3   Investment Amount (USD)  5000 non-null   float64\n",
      " 4   Valuation (USD)          5000 non-null   float64\n",
      " 5   Number of Investors      5000 non-null   int64  \n",
      " 6   Country                  5000 non-null   object \n",
      " 7   Year Founded             5000 non-null   int64  \n",
      " 8   Growth Rate (%)          5000 non-null   float64\n",
      "dtypes: float64(3), int64(3), object(3)\n",
      "memory usage: 351.7+ KB\n",
      "None\n",
      "\n",
      "🔹 First 5 Rows:\n",
      "  Startup Name    Industry  Funding Rounds  Investment Amount (USD)  \\\n",
      "0    Startup_1  Blockchain               8             1.335166e+09   \n",
      "1    Startup_2        SaaS               2             2.781498e+09   \n",
      "2    Startup_3      EdTech              10             3.309032e+09   \n",
      "3    Startup_4     Fintech               5             4.050196e+09   \n",
      "4    Startup_5      EdTech               9             1.645080e+09   \n",
      "\n",
      "   Valuation (USD)  Number of Investors    Country  Year Founded  \\\n",
      "0     6.621448e+09                   50    Germany          2012   \n",
      "1     8.363214e+09                   36         UK          2006   \n",
      "2     1.548270e+10                   39  Singapore          2016   \n",
      "3     1.268253e+10                   44     France          2021   \n",
      "4     6.887966e+09                   48      India          2011   \n",
      "\n",
      "   Growth Rate (%)  \n",
      "0            77.10  \n",
      "1           105.52  \n",
      "2           190.47  \n",
      "3             9.44  \n",
      "4           192.00  \n"
     ]
    }
   ],
   "source": [
    "import pandas as pd\n",
    "import os\n",
    "\n",
    "# 🔹 Set the correct file path (Update this path)\n",
    "file_path = r\"C:\\Users\\michele\\Downloads\\startup_growth_investment_data.csv\"  # Update with your actual path\n",
    "\n",
    "# 🔹 Check if file exists\n",
    "if not os.path.exists(file_path):\n",
    "    print(f\"Error: File not found at {file_path}\")\n",
    "else:\n",
    "    # 🔹 Load dataset\n",
    "    df = pd.read_csv(file_path)\n",
    "\n",
    "    # 🔹 Unique values per column\n",
    "    print(\"\\n🔹 Unique Values Per Column:\")\n",
    "    print(df.nunique())\n",
    "\n",
    "    # 🔹 Missing values per column\n",
    "    print(\"\\n🔹 Missing (NaN) Values Per Column:\")\n",
    "    print(df.isna().sum())\n",
    "\n",
    "    # 🔹 Summary statistics for numerical and categorical columns\n",
    "    print(\"\\n🔹 Summary Statistics:\")\n",
    "    print(df.describe(include=\"all\"))\n",
    "\n",
    "    # 🔹 Data Overview (Structure, Data Types, Non-null Counts)\n",
    "    print(\"\\n🔹 Data Overview:\")\n",
    "    print(df.info())\n",
    "\n",
    "    # 🔹 First 5 Rows (Preview Data)\n",
    "    print(\"\\n🔹 First 5 Rows:\")\n",
    "    print(df.head())\n"
   ]
  },
  {
   "cell_type": "code",
   "execution_count": 3,
   "metadata": {},
   "outputs": [
    {
     "name": "stdout",
     "output_type": "stream",
     "text": [
      "c:\\projects-bootcamp\\Project_Investment_Analysis\n"
     ]
    }
   ],
   "source": [
    "import os\n",
    "print(os.getcwd())  # Shows current working directory\n"
   ]
  },
  {
   "cell_type": "code",
   "execution_count": 4,
   "metadata": {},
   "outputs": [
    {
     "name": "stdout",
     "output_type": "stream",
     "text": [
      "\n",
      "🔹 Column Data Types & Example Values:\n",
      "\n",
      "📌 Column: Startup Name\n",
      "   ▶ Data Type: object\n",
      "   ▶ Example Values: ['Startup_1' 'Startup_2' 'Startup_3' 'Startup_4' 'Startup_5']\n",
      "\n",
      "📌 Column: Industry\n",
      "   ▶ Data Type: object\n",
      "   ▶ Example Values: ['Blockchain' 'SaaS' 'EdTech' 'Fintech' 'HealthTech']\n",
      "\n",
      "📌 Column: Funding Rounds\n",
      "   ▶ Data Type: int64\n",
      "   ▶ Example Values: [ 8  2 10  5  9]\n",
      "\n",
      "📌 Column: Investment Amount (USD)\n",
      "   ▶ Data Type: float64\n",
      "   ▶ Example Values: [1.33516585e+09 2.78149822e+09 3.30903193e+09 4.05019627e+09\n",
      " 1.64508029e+09]\n",
      "\n",
      "📌 Column: Valuation (USD)\n",
      "   ▶ Data Type: float64\n",
      "   ▶ Example Values: [6.62144804e+09 8.36321410e+09 1.54826974e+10 1.26825279e+10\n",
      " 6.88796594e+09]\n",
      "\n",
      "📌 Column: Number of Investors\n",
      "   ▶ Data Type: int64\n",
      "   ▶ Example Values: [50 36 39 44 48]\n",
      "\n",
      "📌 Column: Country\n",
      "   ▶ Data Type: object\n",
      "   ▶ Example Values: ['Germany' 'UK' 'Singapore' 'France' 'India']\n",
      "\n",
      "📌 Column: Year Founded\n",
      "   ▶ Data Type: int64\n",
      "   ▶ Example Values: [2012 2006 2016 2021 2011]\n",
      "\n",
      "📌 Column: Growth Rate (%)\n",
      "   ▶ Data Type: float64\n",
      "   ▶ Example Values: [ 77.1  105.52 190.47   9.44 192.  ]\n"
     ]
    }
   ],
   "source": [
    "import pandas as pd\n",
    "\n",
    "# Load dataset (Update file path if needed)\n",
    "file_path = r\"C:\\Users\\michele\\Downloads\\startup_growth_investment_data.csv\"  # Update with actual path\n",
    "df = pd.read_csv(file_path)\n",
    "\n",
    "# 🔹 Print Data Types & Sample Values\n",
    "print(\"\\n🔹 Column Data Types & Example Values:\")\n",
    "for col in df.columns:\n",
    "    print(f\"\\n📌 Column: {col}\")\n",
    "    print(\"   ▶ Data Type:\", df[col].dtype)\n",
    "    print(\"   ▶ Example Values:\", df[col].dropna().unique()[:5])  # Show first 5 unique values\n"
   ]
  },
  {
   "cell_type": "code",
   "execution_count": 5,
   "metadata": {},
   "outputs": [
    {
     "name": "stdout",
     "output_type": "stream",
     "text": [
      "   Startup ID    Industry  Funding Rounds  Investment Amount (USD)  \\\n",
      "0           1  Blockchain               8             1.335166e+09   \n",
      "1           2        SaaS               2             2.781498e+09   \n",
      "2           3      EdTech              10             3.309032e+09   \n",
      "3           4     Fintech               5             4.050196e+09   \n",
      "4           5      EdTech               9             1.645080e+09   \n",
      "\n",
      "   Valuation (USD)  Number of Investors    Country  Year Founded  \\\n",
      "0     6.621448e+09                   50    Germany          2012   \n",
      "1     8.363214e+09                   36         UK          2006   \n",
      "2     1.548270e+10                   39  Singapore          2016   \n",
      "3     1.268253e+10                   44     France          2021   \n",
      "4     6.887966e+09                   48      India          2011   \n",
      "\n",
      "   Growth Rate (%)  \n",
      "0            77.10  \n",
      "1           105.52  \n",
      "2           190.47  \n",
      "3             9.44  \n",
      "4           192.00  \n"
     ]
    }
   ],
   "source": [
    "\n",
    "\n",
    "# 🔹 Rename 'Startup Name' to 'Startup ID'\n",
    "df.rename(columns={\"Startup Name\": \"Startup ID\"}, inplace=True)\n",
    "\n",
    "# 🔹 Convert startup names into unique ID numbers\n",
    "df[\"Startup ID\"] = df[\"Startup ID\"].factorize()[0] + 1  # Assigns unique numeric IDs starting from 1\n",
    "\n",
    "# 🔹 Display updated data\n",
    "print(df.head())  # Show first 5 rows to verify the change\n",
    "\n",
    "# Save the cleaned dataset (optional)\n",
    "df.to_csv(\"cleaned_startup_data.csv\", index=False)\n"
   ]
  },
  {
   "cell_type": "code",
   "execution_count": null,
   "metadata": {},
   "outputs": [
    {
     "name": "stdout",
     "output_type": "stream",
     "text": [
      "\n",
      "Data after rounding numeric columns to 2 decimal places:\n",
      "   Startup ID    Industry  Funding Rounds  Investment Amount (USD)  \\\n",
      "0           1  Blockchain               8             1.335166e+09   \n",
      "1           2        SaaS               2             2.781498e+09   \n",
      "2           3      EdTech              10             3.309032e+09   \n",
      "3           4     Fintech               5             4.050196e+09   \n",
      "4           5      EdTech               9             1.645080e+09   \n",
      "\n",
      "   Valuation (USD)  Number of Investors    Country  Year Founded  \\\n",
      "0     6.621448e+09                   50    Germany          2012   \n",
      "1     8.363214e+09                   36         UK          2006   \n",
      "2     1.548270e+10                   39  Singapore          2016   \n",
      "3     1.268253e+10                   44     France          2021   \n",
      "4     6.887966e+09                   48      India          2011   \n",
      "\n",
      "   Growth Rate (%)  \n",
      "0            77.10  \n",
      "1           105.52  \n",
      "2           190.47  \n",
      "3             9.44  \n",
      "4           192.00  \n",
      "\n",
      "Data cleaned and saved as 'cleaned_data.csv'\n"
     ]
    }
   ],
   "source": [
    "# Identify numeric columns (including integers and floats)\n",
    "numeric_cols = df.select_dtypes(include=['number']).columns\n",
    "\n",
    "# Round all numeric columns to 2 decimal places\n",
    "df[numeric_cols] = df[numeric_cols].round(2)\n",
    "\n",
    "# Show the updated DataFrame\n",
    "print(\"\\nData after rounding numeric columns to 2 decimal places:\")\n",
    "print(df.head())\n",
    "\n",
    "# Save the cleaned DataFrame to a new CSV file\n",
    "df.to_csv('cleaned_data.csv', index=False)\n",
    "\n",
    "print(\"\\nData cleaned and saved as 'cleaned_data.csv'\")"
   ]
  },
  {
   "cell_type": "code",
   "execution_count": 7,
   "metadata": {},
   "outputs": [],
   "source": [
    "df = pd.read_csv(r'c:\\projects-bootcamp\\Project_Investment_Analysis\\cleaned_data.csv')\n"
   ]
  },
  {
   "cell_type": "code",
   "execution_count": 8,
   "metadata": {},
   "outputs": [
    {
     "name": "stdout",
     "output_type": "stream",
     "text": [
      "   Startup ID    Industry  Funding Rounds  Investment Amount (USD)  \\\n",
      "0           1  Blockchain               8             1.335166e+09   \n",
      "1           2        SaaS               2             2.781498e+09   \n",
      "2           3      EdTech              10             3.309032e+09   \n",
      "3           4     Fintech               5             4.050196e+09   \n",
      "4           5      EdTech               9             1.645080e+09   \n",
      "\n",
      "   Valuation (USD)  Number of Investors    Country  Year Founded  \\\n",
      "0     6.621448e+09                   50    Germany          2012   \n",
      "1     8.363214e+09                   36         UK          2006   \n",
      "2     1.548270e+10                   39  Singapore          2016   \n",
      "3     1.268253e+10                   44     France          2021   \n",
      "4     6.887966e+09                   48      India          2011   \n",
      "\n",
      "   Growth Rate (%)  \n",
      "0            77.10  \n",
      "1           105.52  \n",
      "2           190.47  \n",
      "3             9.44  \n",
      "4           192.00  \n"
     ]
    }
   ],
   "source": [
    "import pandas as pd\n",
    "\n",
    "# Provide the correct path to the cleaned data file\n",
    "file_path = r'c:\\projects-bootcamp\\Project_Investment_Analysis\\cleaned_data.csv'\n",
    "\n",
    "# Load the CSV file into a DataFrame\n",
    "df = pd.read_csv(file_path)\n",
    "\n",
    "# Now you can perform the operations you want with the loaded DataFrame\n",
    "# For example, check the first few rows\n",
    "print(df.head())\n",
    "\n",
    "# You can proceed with your calculations and analysis\n"
   ]
  },
  {
   "cell_type": "code",
   "execution_count": 9,
   "metadata": {},
   "outputs": [
    {
     "name": "stdout",
     "output_type": "stream",
     "text": [
      "Industry with the highest growth rate: EdTech with a growth rate of 105.20069306930694%\n",
      "\n",
      "Growth rate segmented by industry:\n",
      "     Industry  Growth Rate (%)\n",
      "4      EdTech       105.200693\n",
      "5     Fintech       105.163675\n",
      "2  Blockchain       103.322821\n",
      "7        SaaS       103.100980\n",
      "3  E-commerce       101.501153\n",
      "0          AI       100.726312\n",
      "6  HealthTech       100.158599\n",
      "1     Biotech        97.580912\n"
     ]
    }
   ],
   "source": [
    "# Group by 'Industry' and calculate the average growth rate per industry\n",
    "growth_by_industry = df.groupby('Industry')['Growth Rate (%)'].mean().reset_index()\n",
    "\n",
    "# Sort industries by average growth rate in descending order\n",
    "growth_by_industry = growth_by_industry.sort_values(by='Growth Rate (%)', ascending=False)\n",
    "\n",
    "# Display the industry with the highest growth rate\n",
    "top_industry = growth_by_industry.iloc[0]\n",
    "\n",
    "# Display the result\n",
    "print(f\"Industry with the highest growth rate: {top_industry['Industry']} with a growth rate of {top_industry['Growth Rate (%)']}%\")\n",
    "print(\"\\nGrowth rate segmented by industry:\")\n",
    "print(growth_by_industry)\n"
   ]
  },
  {
   "cell_type": "code",
   "execution_count": 10,
   "metadata": {},
   "outputs": [
    {
     "name": "stdout",
     "output_type": "stream",
     "text": [
      "Average Growth Rate Segmented by Industry:\n",
      "     Industry  Growth Rate (%)\n",
      "0          AI       100.726312\n",
      "1     Biotech        97.580912\n",
      "2  Blockchain       103.322821\n",
      "3  E-commerce       101.501153\n",
      "4      EdTech       105.200693\n",
      "5     Fintech       105.163675\n",
      "6  HealthTech       100.158599\n",
      "7        SaaS       103.100980\n"
     ]
    }
   ],
   "source": [
    "# Group by 'Industry' and calculate the average growth rate per industry\n",
    "growth_by_industry = df.groupby('Industry')['Growth Rate (%)'].mean().reset_index()\n",
    "\n",
    "# Display the average growth rate for each industry\n",
    "print(\"Average Growth Rate Segmented by Industry:\")\n",
    "print(growth_by_industry)\n"
   ]
  },
  {
   "cell_type": "code",
   "execution_count": 11,
   "metadata": {},
   "outputs": [
    {
     "name": "stdout",
     "output_type": "stream",
     "text": [
      "📌 **Industry with the Most Investment:** HealthTech ($1,636,565,354,043)\n",
      "📌 **Industry with the Highest Valuation:** E-commerce ($5,170,241,685,930)\n",
      "📌 **Country that Invested the Most:** Australia ($1,328,810,042,738)\n"
     ]
    }
   ],
   "source": [
    "# Group by industry to get total investment and valuation\n",
    "industry_stats = df.groupby(\"Industry\").agg(\n",
    "    Total_Investment=(\"Investment Amount (USD)\", \"sum\"),\n",
    "    Total_Valuation=(\"Valuation (USD)\", \"sum\")\n",
    ").reset_index()\n",
    "\n",
    "# Find the industry with the most investment\n",
    "top_invested_industry = industry_stats.loc[industry_stats[\"Total_Investment\"].idxmax()]\n",
    "\n",
    "# Find the industry with the highest valuation\n",
    "top_valued_industry = industry_stats.loc[industry_stats[\"Total_Valuation\"].idxmax()]\n",
    "\n",
    "# Group by country to get total investment\n",
    "country_stats = df.groupby(\"Country\").agg(\n",
    "    Total_Investment=(\"Investment Amount (USD)\", \"sum\")\n",
    ").reset_index()\n",
    "\n",
    "# Find the country that invested the most\n",
    "top_investing_country = country_stats.loc[country_stats[\"Total_Investment\"].idxmax()]\n",
    "\n",
    "# Print results\n",
    "print(f\"📌 **Industry with the Most Investment:** {top_invested_industry['Industry']} (${top_invested_industry['Total_Investment']:,.0f})\")\n",
    "print(f\"📌 **Industry with the Highest Valuation:** {top_valued_industry['Industry']} (${top_valued_industry['Total_Valuation']:,.0f})\")\n",
    "print(f\"📌 **Country that Invested the Most:** {top_investing_country['Country']} (${top_investing_country['Total_Investment']:,.0f})\")\n"
   ]
  },
  {
   "cell_type": "code",
   "execution_count": 12,
   "metadata": {},
   "outputs": [],
   "source": [
    "industry_stats = df.groupby(\"Industry\").agg(\n",
    "    Avg_Investment=(\"Investment Amount (USD)\", \"mean\"),\n",
    "    Avg_Valuation=(\"Valuation (USD)\", \"mean\"),\n",
    "    Total_Investment=(\"Investment Amount (USD)\", \"sum\"),\n",
    "    Total_Valuation=(\"Valuation (USD)\", \"sum\"),\n",
    "    Count=(\"Industry\", \"count\")  # Number of investments per industry\n",
    ").reset_index()\n"
   ]
  },
  {
   "cell_type": "code",
   "execution_count": 13,
   "metadata": {},
   "outputs": [],
   "source": [
    "country_stats = df.groupby(\"Country\").agg(\n",
    "    Avg_Investment=(\"Investment Amount (USD)\", \"mean\"),\n",
    "    Avg_Valuation=(\"Valuation (USD)\", \"mean\"),\n",
    "    Total_Investment=(\"Investment Amount (USD)\", \"sum\"),\n",
    "    Total_Valuation=(\"Valuation (USD)\", \"sum\"),\n",
    "    Count=(\"Country\", \"count\")  # Number of investments per country\n",
    ").reset_index()\n"
   ]
  },
  {
   "cell_type": "code",
   "execution_count": 14,
   "metadata": {},
   "outputs": [],
   "source": [
    "industry_stats[\"Investment_Segment\"] = pd.qcut(\n",
    "    industry_stats[\"Total_Investment\"], q=3, labels=[\"Low\", \"Medium\", \"High\"]\n",
    ")\n",
    "\n",
    "industry_stats[\"Valuation_Segment\"] = pd.qcut(\n",
    "    industry_stats[\"Total_Valuation\"], q=3, labels=[\"Low\", \"Medium\", \"High\"]\n",
    ")\n"
   ]
  },
  {
   "cell_type": "code",
   "execution_count": 15,
   "metadata": {},
   "outputs": [],
   "source": [
    "country_stats[\"Investment_Segment\"] = pd.qcut(\n",
    "    country_stats[\"Total_Investment\"], q=3, labels=[\"Low\", \"Medium\", \"High\"]\n",
    ")\n",
    "\n",
    "country_stats[\"Valuation_Segment\"] = pd.qcut(\n",
    "    country_stats[\"Total_Valuation\"], q=3, labels=[\"Low\", \"Medium\", \"High\"]\n",
    ")\n"
   ]
  },
  {
   "cell_type": "code",
   "execution_count": 16,
   "metadata": {},
   "outputs": [
    {
     "name": "stdout",
     "output_type": "stream",
     "text": [
      "Industry Statistics:\n",
      "     Industry  Avg_Investment  Avg_Valuation  Total_Investment  \\\n",
      "6  HealthTech    2.389147e+09   7.466786e+09      1.636565e+12   \n",
      "3  E-commerce    2.493989e+09   8.167838e+09      1.578695e+12   \n",
      "7        SaaS    2.425936e+09   7.916092e+09      1.559877e+12   \n",
      "5     Fintech    2.521915e+09   8.117729e+09      1.550977e+12   \n",
      "2  Blockchain    2.464965e+09   7.946256e+09      1.538138e+12   \n",
      "0          AI    2.454116e+09   8.212621e+09      1.477378e+12   \n",
      "4      EdTech    2.437629e+09   7.938860e+09      1.477203e+12   \n",
      "1     Biotech    2.464531e+09   8.064938e+09      1.459002e+12   \n",
      "\n",
      "   Total_Valuation  Count Investment_Segment Valuation_Segment  \n",
      "6     5.114749e+12    685               High              High  \n",
      "3     5.170242e+12    633               High              High  \n",
      "7     5.090047e+12    643               High              High  \n",
      "5     4.992403e+12    615             Medium            Medium  \n",
      "2     4.958464e+12    624             Medium            Medium  \n",
      "0     4.943998e+12    602                Low               Low  \n",
      "4     4.810949e+12    606                Low               Low  \n",
      "1     4.774444e+12    592                Low               Low  \n",
      "\n",
      "Country Statistics:\n",
      "     Country  Avg_Investment  Avg_Valuation  Total_Investment  \\\n",
      "0  Australia    2.424836e+09   8.017226e+09      1.328810e+12   \n",
      "1     Brazil    2.511335e+09   8.101398e+09      1.305894e+12   \n",
      "7  Singapore    2.503492e+09   8.155135e+09      1.284292e+12   \n",
      "3      China    2.514101e+09   8.386369e+09      1.249508e+12   \n",
      "4     France    2.496189e+09   8.031846e+09      1.220637e+12   \n",
      "9        USA    2.404995e+09   7.740191e+09      1.212117e+12   \n",
      "6      India    2.490398e+09   8.059270e+09      1.202862e+12   \n",
      "8         UK    2.352066e+09   7.523960e+09      1.199554e+12   \n",
      "5    Germany    2.383986e+09   7.721917e+09      1.180073e+12   \n",
      "2     Canada    2.480927e+09   7.974363e+09      1.094089e+12   \n",
      "\n",
      "   Total_Valuation  Count Investment_Segment Valuation_Segment  \n",
      "0     4.393440e+12    548               High              High  \n",
      "1     4.212727e+12    520               High              High  \n",
      "7     4.183584e+12    513               High              High  \n",
      "3     4.168026e+12    497             Medium              High  \n",
      "4     3.927573e+12    489             Medium            Medium  \n",
      "9     3.901056e+12    504             Medium            Medium  \n",
      "6     3.892628e+12    483                Low               Low  \n",
      "8     3.837219e+12    510                Low               Low  \n",
      "5     3.822349e+12    495                Low               Low  \n",
      "2     3.516694e+12    441                Low               Low  \n"
     ]
    }
   ],
   "source": [
    "print(\"Industry Statistics:\")\n",
    "print(industry_stats.sort_values(by=\"Total_Investment\", ascending=False))\n",
    "\n",
    "print(\"\\nCountry Statistics:\")\n",
    "print(country_stats.sort_values(by=\"Total_Investment\", ascending=False))\n"
   ]
  }
 ],
 "metadata": {
  "kernelspec": {
   "display_name": "base",
   "language": "python",
   "name": "python3"
  },
  "language_info": {
   "codemirror_mode": {
    "name": "ipython",
    "version": 3
   },
   "file_extension": ".py",
   "mimetype": "text/x-python",
   "name": "python",
   "nbconvert_exporter": "python",
   "pygments_lexer": "ipython3",
   "version": "3.12.7"
  }
 },
 "nbformat": 4,
 "nbformat_minor": 2
}
