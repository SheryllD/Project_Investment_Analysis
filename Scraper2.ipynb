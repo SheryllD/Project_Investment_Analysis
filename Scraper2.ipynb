{
 "cells": [
  {
   "cell_type": "code",
   "execution_count": 3,
   "metadata": {},
   "outputs": [],
   "source": [
    "# from selenium import webdriver\n",
    "# #from selenium.webdriver.chrome.service import service\n",
    "# #service = service\n",
    "# #from selenium.webdriver.common.keys import Keys\n",
    "# #from selenium.webdriver.common.by import By\n",
    "\n",
    "# import pandas as pd\n",
    "# #from selenium import webdriver\n",
    "\n",
    "# driver = webdriver.Chrome()\n",
    "# website = 'https://startup-map.berlin/companies.startups'\n",
    "# path = '/opt/anaconda3/lib/python3.12/site-packages/selenium/__init__.py'\n",
    "# driver = webdriver.Chrome(path)\n",
    "# driver.get(website)\n",
    "\n"
   ]
  },
  {
   "cell_type": "code",
   "execution_count": null,
   "metadata": {},
   "outputs": [
    {
     "name": "stdout",
     "output_type": "stream",
     "text": [
      "\n"
     ]
    }
   ],
   "source": [
    "from selenium import webdriver\n",
    "from selenium.webdriver.chrome.service import Service\n",
    "from selenium.webdriver.chrome.options import Options\n",
    "from webdriver_manager.chrome import ChromeDriverManager\n",
    "\n",
    "# Set Chrome options\n",
    "chrome_options = Options()\n",
    "chrome_options.add_experimental_option(\"excludeSwitches\", [\"enable-automation\"])\n",
    "chrome_options.add_experimental_option(\"useAutomationExtension\", False)\n",
    "chrome_options.add_argument(\"--ignore-certificate-errors\")\n",
    "chrome_options.add_argument(\"--allow-running-insecure-content\")\n",
    "\n",
    "# Automatically download and use the correct ChromeDriver\n",
    "service = Service(ChromeDriverManager().install())\n",
    "driver = webdriver.Chrome(service=service, options=chrome_options)\n",
    "\n",
    "# Open the webpage\n",
    "driver.get(\"https://startup-map.berlin/companies.startups/f/all_regions/anyof_Berlin%2FBrandenburg%20Metropolitan%20Region/data_type/anyof_Verified\")\n",
    "print(driver.title)\n",
    "\n",
    "# Close the browser\n",
    "driver.quit()\n"
   ]
  }
 ],
 "metadata": {
  "kernelspec": {
   "display_name": "base",
   "language": "python",
   "name": "python3"
  },
  "language_info": {
   "codemirror_mode": {
    "name": "ipython",
    "version": 3
   },
   "file_extension": ".py",
   "mimetype": "text/x-python",
   "name": "python",
   "nbconvert_exporter": "python",
   "pygments_lexer": "ipython3",
   "version": "3.12.2"
  }
 },
 "nbformat": 4,
 "nbformat_minor": 2
}
